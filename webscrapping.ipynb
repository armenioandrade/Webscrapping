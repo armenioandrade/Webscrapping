{
 "cells": [
  {
   "cell_type": "code",
   "execution_count": 3,
   "metadata": {},
   "outputs": [],
   "source": [
    "import requests\n",
    "from bs4 import BeautifulSoup\n",
    "import pandas as pd\n",
    "from itertools import product"
   ]
  },
  {
   "cell_type": "code",
   "execution_count": 4,
   "metadata": {},
   "outputs": [],
   "source": [
    "DOMAIN = \"https://ibjjf.com\"\n",
    "URL = f'{DOMAIN}/2024-athletes-ranking'\n",
    "HEADERS = {'User-Agent': 'Mozilla/5.0'}\n",
    "PARAMETERS = {\n",
    "    'utf8': '✓',\n",
    "    'filters[s]': 'ranking-geral-gi',\n",
    "    'filters[ranking_category]': 'adult',\n",
    "    'filters[gender]': 'male',\n",
    "    'filters[belt]': 'black',\n",
    "    'filters[weight]': None,\n",
    "    'page': 1\n",
    "}"
   ]
  },
  {
   "cell_type": "code",
   "execution_count": 11,
   "metadata": {},
   "outputs": [],
   "source": [
    "def get_page_content(url, headers, parameters):\n",
    "    response = requests.get(url, headers=HEADERS, params=PARAMETERS).text\n",
    "    soup = BeautifulSoup(response, 'html.parser')\n",
    "    return soup"
   ]
  },
  {
   "cell_type": "code",
   "execution_count": 12,
   "metadata": {},
   "outputs": [],
   "source": [
    "soup = get_page_content(URL, HEADERS, PARAMETERS)\n",
    "table = soup.find('table')"
   ]
  },
  {
   "cell_type": "code",
   "execution_count": 14,
   "metadata": {},
   "outputs": [],
   "source": [
    "athletes = []\n",
    "rows = table.find_all('tr')"
   ]
  },
  {
   "cell_type": "code",
   "execution_count": 27,
   "metadata": {},
   "outputs": [
    {
     "name": "stdout",
     "output_type": "stream",
     "text": [
      "{'photo': 'https://api.ibjjfdb.com/Athletes/134127/RankingPhoto', 'name': 'Erich Munis dos Santos', 'details': 'https://ibjjf.com/athletes/erich-santos', 'points': '877.0', 'rank': '1'}\n",
      "{'photo': 'https://api.ibjjfdb.com/Athletes/88408/RankingPhoto', 'name': 'Fellipe Andrew Leandro Silva', 'details': 'https://ibjjf.com/athletes/fellipe-silva', 'points': '661.0', 'rank': '2'}\n",
      "{'photo': 'https://api.ibjjfdb.com/Athletes/56444/RankingPhoto', 'name': 'Adam Wardzinski', 'details': 'https://ibjjf.com/athletes/adam-wardzinski', 'points': '591.5', 'rank': '3'}\n",
      "{'photo': 'https://api.ibjjfdb.com/Athletes/82191/RankingPhoto', 'name': 'Diego Oliveira Batista', 'details': 'https://ibjjf.com/athletes/diego-batista-65fb12dc74cd', 'points': '532.5', 'rank': '4'}\n",
      "{'photo': 'https://api.ibjjfdb.com/Athletes/121461/RankingPhoto', 'name': 'Marcus Vinicius Ribeiro de Siqueira', 'details': 'https://ibjjf.com/athletes/marcus-siqueira', 'points': '488.5', 'rank': '5'}\n",
      "{'photo': 'https://api.ibjjfdb.com/Athletes/133443/RankingPhoto', 'name': 'Victor Hugo Costa Marques', 'details': 'https://ibjjf.com/athletes/victor-marques-bbe035b0fd4c', 'points': '468.0', 'rank': '6'}\n",
      "{'photo': 'https://api.ibjjfdb.com/Athletes/125159/RankingPhoto', 'name': 'Micael Ferreira Galvâo', 'details': 'https://ibjjf.com/athletes/micael-galvao', 'points': '459', 'rank': '7'}\n",
      "{'photo': 'https://api.ibjjfdb.com/Athletes/29697/RankingPhoto', 'name': 'Meyram Maquiné Alves', 'details': 'https://ibjjf.com/athletes/meyram-alves', 'points': '438.0', 'rank': '8'}\n",
      "{'photo': 'https://api.ibjjfdb.com/Athletes/49233/RankingPhoto', 'name': 'Mateus Rodrigues de Souza', 'details': 'https://ibjjf.com/athletes/mateus-souza', 'points': '434.5', 'rank': '9'}\n",
      "{'photo': 'https://api.ibjjfdb.com/Athletes/49978/RankingPhoto', 'name': 'Gutemberg de Jesus Santos Pereira', 'details': 'https://ibjjf.com/athletes/gutemberg-pereira', 'points': '419.0', 'rank': '10'}\n"
     ]
    }
   ],
   "source": [
    "for row in rows:\n",
    "    photo_cell = row.find('td', class_ = 'photo reduced')\n",
    "    name_cell = row.find('td', class_ = 'name-academy')\n",
    "    points_cell = row.find('td', class_ = 'pontuation')\n",
    "    rank_cell = row.find('td', class_ = 'position')\n",
    "    \n",
    "    photo = photo_cell.find('img')['src']\n",
    "    name_tag = name_cell.find('div', class_ = 'name').find('a')\n",
    "    name = name_tag.get_text(strip=True)\n",
    "    details = DOMAIN + name_tag['href']\n",
    "    points = points_cell.get_text(strip=True)\n",
    "    rank = rank_cell.get_text(strip=True)\n",
    "    \n",
    "    athlete = {\n",
    "        'photo': photo,\n",
    "        'name': name,\n",
    "        'details': details,\n",
    "        'points': points,\n",
    "        'rank': rank\n",
    "    }\n",
    "    print(athlete)"
   ]
  }
 ],
 "metadata": {
  "kernelspec": {
   "display_name": ".venv",
   "language": "python",
   "name": "python3"
  },
  "language_info": {
   "codemirror_mode": {
    "name": "ipython",
    "version": 3
   },
   "file_extension": ".py",
   "mimetype": "text/x-python",
   "name": "python",
   "nbconvert_exporter": "python",
   "pygments_lexer": "ipython3",
   "version": "3.12.4"
  }
 },
 "nbformat": 4,
 "nbformat_minor": 2
}
